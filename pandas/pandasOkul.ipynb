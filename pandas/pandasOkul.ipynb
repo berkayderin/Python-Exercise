{
 "cells": [
  {
   "cell_type": "code",
   "execution_count": 1,
   "metadata": {},
   "outputs": [],
   "source": [
    "import numpy as np\n",
    "import pandas as pd"
   ]
  },
  {
   "cell_type": "code",
   "execution_count": 3,
   "metadata": {},
   "outputs": [
    {
     "name": "stdout",
     "output_type": "stream",
     "text": [
      "[1 2 3 4 5]\n"
     ]
    }
   ],
   "source": [
    "numbers = [1, 2, 3, 4, 5]\n",
    "numpy_array = np.array(numbers)\n",
    "print(numpy_array)"
   ]
  },
  {
   "cell_type": "code",
   "execution_count": 5,
   "metadata": {},
   "outputs": [
    {
     "name": "stdout",
     "output_type": "stream",
     "text": [
      "0    1\n",
      "1    2\n",
      "2    3\n",
      "3    4\n",
      "4    5\n",
      "dtype: int64\n"
     ]
    }
   ],
   "source": [
    "pandas_series = pd.Series(numbers)\n",
    "print(pandas_series)"
   ]
  },
  {
   "cell_type": "code",
   "execution_count": 6,
   "metadata": {},
   "outputs": [
    {
     "name": "stdout",
     "output_type": "stream",
     "text": [
      "a    1\n",
      "b    2\n",
      "c    3\n",
      "d    4\n",
      "e    5\n",
      "dtype: int64\n"
     ]
    }
   ],
   "source": [
    "my_index = ['a', 'b', 'c', 'd', 'e']\n",
    "pandas_series = pd.Series(numbers, index=my_index)\n",
    "print(pandas_series)"
   ]
  },
  {
   "cell_type": "code",
   "execution_count": 7,
   "metadata": {},
   "outputs": [
    {
     "name": "stdout",
     "output_type": "stream",
     "text": [
      "a    1\n",
      "b    2\n",
      "c    3\n",
      "d    4\n",
      "e    5\n",
      "dtype: int64\n"
     ]
    }
   ],
   "source": [
    "number_dictionary = {'a': 1, 'b': 2, 'c': 3, 'd': 4, 'e': 5}\n",
    "pandas_series = pd.Series(number_dictionary)\n",
    "print(pandas_series)"
   ]
  },
  {
   "cell_type": "code",
   "execution_count": 8,
   "metadata": {},
   "outputs": [
    {
     "name": "stdout",
     "output_type": "stream",
     "text": [
      "15\n"
     ]
    }
   ],
   "source": [
    "print(pandas_series.sum())"
   ]
  },
  {
   "cell_type": "code",
   "execution_count": 9,
   "metadata": {},
   "outputs": [
    {
     "name": "stdout",
     "output_type": "stream",
     "text": [
      "5\n"
     ]
    }
   ],
   "source": [
    "print(pandas_series.max())"
   ]
  },
  {
   "cell_type": "code",
   "execution_count": 10,
   "metadata": {},
   "outputs": [
    {
     "name": "stdout",
     "output_type": "stream",
     "text": [
      "3.0\n"
     ]
    }
   ],
   "source": [
    "print(pandas_series.mean()) # ortalama"
   ]
  },
  {
   "cell_type": "code",
   "execution_count": 11,
   "metadata": {},
   "outputs": [
    {
     "data": {
      "text/plain": [
       "a     2\n",
       "b     4\n",
       "c     6\n",
       "d     8\n",
       "e    10\n",
       "dtype: int64"
      ]
     },
     "execution_count": 11,
     "metadata": {},
     "output_type": "execute_result"
    }
   ],
   "source": [
    "pandas_series+pandas_series # toplama"
   ]
  },
  {
   "cell_type": "code",
   "execution_count": 12,
   "metadata": {},
   "outputs": [
    {
     "data": {
      "text/plain": [
       "a    1.000000\n",
       "b    1.414214\n",
       "c    1.732051\n",
       "d    2.000000\n",
       "e    2.236068\n",
       "dtype: float64"
      ]
     },
     "execution_count": 12,
     "metadata": {},
     "output_type": "execute_result"
    }
   ],
   "source": [
    "np.sqrt(pandas_series) # karekök"
   ]
  },
  {
   "cell_type": "code",
   "execution_count": 13,
   "metadata": {},
   "outputs": [
    {
     "data": {
      "text/plain": [
       "a     1\n",
       "b     4\n",
       "c     9\n",
       "d    16\n",
       "e    25\n",
       "dtype: int64"
      ]
     },
     "execution_count": 13,
     "metadata": {},
     "output_type": "execute_result"
    }
   ],
   "source": [
    "pandas_series*pandas_series # kare"
   ]
  },
  {
   "cell_type": "code",
   "execution_count": 14,
   "metadata": {},
   "outputs": [
    {
     "name": "stdout",
     "output_type": "stream",
     "text": [
      "d    4\n",
      "e    5\n",
      "dtype: int64\n"
     ]
    }
   ],
   "source": [
    "print(pandas_series[pandas_series>pandas_series.median()])"
   ]
  },
  {
   "cell_type": "code",
   "execution_count": 15,
   "metadata": {},
   "outputs": [
    {
     "name": "stdout",
     "output_type": "stream",
     "text": [
      "e    5\n",
      "dtype: int64\n"
     ]
    }
   ],
   "source": [
    "print(pandas_series[pandas_series == 5]) # 5 olan değerler"
   ]
  },
  {
   "cell_type": "markdown",
   "metadata": {},
   "source": [
    "## DATAFRAME"
   ]
  },
  {
   "cell_type": "code",
   "execution_count": 17,
   "metadata": {},
   "outputs": [
    {
     "name": "stdout",
     "output_type": "stream",
     "text": [
      "   first second\n",
      "0    1.1      a\n",
      "1    2.2      b\n",
      "2    3.3      c\n",
      "3    4.4      d\n",
      "4    NaN      e\n"
     ]
    }
   ],
   "source": [
    "s1 = pd.Series([1.1, 2.2, 3.3, 4.4])\n",
    "s2 = pd.Series([\"a\",\"b\",\"c\",\"d\",\"e\"])\n",
    "\n",
    "data = dict(first=s1, second=s2)\n",
    "df2 = pd.DataFrame(data)\n",
    "print(df2)"
   ]
  },
  {
   "cell_type": "code",
   "execution_count": 18,
   "metadata": {},
   "outputs": [
    {
     "name": "stdout",
     "output_type": "stream",
     "text": [
      "   apples  oranges\n",
      "0       3        0\n",
      "1       2        3\n",
      "2       0        7\n",
      "3       1        2\n"
     ]
    }
   ],
   "source": [
    "data = {\"apples\": [3, 2, 0, 1], \"oranges\": [0, 3, 7, 2]}\n",
    "df1 = pd.DataFrame(data)\n",
    "print(df1)"
   ]
  },
  {
   "cell_type": "code",
   "execution_count": 23,
   "metadata": {},
   "outputs": [
    {
     "name": "stdout",
     "output_type": "stream",
     "text": [
      "   apples  oranges\n",
      "0       3        0\n",
      "1       2        3\n",
      "2       0        7\n",
      "3       1        2\n",
      "        apples  oranges\n",
      "June         3        0\n",
      "Robert       2        3\n",
      "Lily         0        7\n",
      "David        1        2\n"
     ]
    }
   ],
   "source": [
    "data = {\"apples\": [3, 2, 0, 1], \"oranges\": [0, 3, 7, 2]}\n",
    "df1 = pd.DataFrame(data)\n",
    "print(df1)\n",
    "df1 = pd.DataFrame(data, index=[\"June\", \"Robert\", \"Lily\", \"David\"])\n",
    "print(df1)"
   ]
  },
  {
   "cell_type": "code",
   "execution_count": 25,
   "metadata": {},
   "outputs": [
    {
     "name": "stdout",
     "output_type": "stream",
     "text": [
      "   month  year  sale\n",
      "0      1  2012    55\n",
      "1      4  2014    40\n",
      "2      7  2013    84\n",
      "3     10  2014    31\n"
     ]
    }
   ],
   "source": [
    "df = pd.DataFrame({\n",
    "    \"month\": [1,4,7,10],\n",
    "    \"year\": [2012,2014,2013,2014],\n",
    "    \"sale\":[55,40,84,31]\n",
    "})\n",
    "\n",
    "print(df)"
   ]
  },
  {
   "cell_type": "code",
   "execution_count": 26,
   "metadata": {},
   "outputs": [
    {
     "name": "stdout",
     "output_type": "stream",
     "text": [
      "       year  sale\n",
      "month            \n",
      "1      2012    55\n",
      "4      2014    40\n",
      "7      2013    84\n",
      "10     2014    31\n"
     ]
    }
   ],
   "source": [
    "df = df.set_index(\"month\")\n",
    "print(df)"
   ]
  },
  {
   "cell_type": "code",
   "execution_count": 42,
   "metadata": {},
   "outputs": [
    {
     "name": "stdout",
     "output_type": "stream",
     "text": [
      "Index(['year', 'sale'], dtype='object')\n",
      "Index(['YEAR', 'SALE'], dtype='object')\n"
     ]
    }
   ],
   "source": [
    "# Örnek bir DataFrame oluşturun\n",
    "data = {'year': [2020, 2021, 2022],\n",
    "        'sale': [100, 150, 200]}\n",
    "df = pd.DataFrame(data)\n",
    "\n",
    "# DataFrame'in sütun isimlerini yazdırın\n",
    "print(df.columns)\n",
    "\n",
    "# Sütun isimlerini güncelleyin\n",
    "df.columns = ['YEAR', 'SALE']\n",
    "\n",
    "# Güncellenmiş sütun isimlerini yazdırın\n",
    "print(df.columns)"
   ]
  }
 ],
 "metadata": {
  "kernelspec": {
   "display_name": "Python 3",
   "language": "python",
   "name": "python3"
  },
  "language_info": {
   "codemirror_mode": {
    "name": "ipython",
    "version": 3
   },
   "file_extension": ".py",
   "mimetype": "text/x-python",
   "name": "python",
   "nbconvert_exporter": "python",
   "pygments_lexer": "ipython3",
   "version": "3.11.5"
  }
 },
 "nbformat": 4,
 "nbformat_minor": 2
}
