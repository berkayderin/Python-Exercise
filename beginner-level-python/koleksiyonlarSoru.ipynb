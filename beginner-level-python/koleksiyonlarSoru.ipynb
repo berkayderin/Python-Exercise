{
 "cells": [
  {
   "cell_type": "code",
   "execution_count": 12,
   "metadata": {},
   "outputs": [],
   "source": [
    "import numpy as np\n",
    "import pandas as pd"
   ]
  },
  {
   "cell_type": "markdown",
   "metadata": {},
   "source": [
    "# liste soruları"
   ]
  },
  {
   "cell_type": "code",
   "execution_count": 13,
   "metadata": {},
   "outputs": [
    {
     "name": "stdout",
     "output_type": "stream",
     "text": [
      "[5, 4, 3, 2, 1]\n"
     ]
    }
   ],
   "source": [
    "liste = [1,2,3,4,5]\n",
    "tersListe = liste[::-1]\n",
    "print(tersListe)"
   ]
  },
  {
   "cell_type": "code",
   "execution_count": 14,
   "metadata": {},
   "outputs": [
    {
     "data": {
      "text/plain": [
       "[1, 2, 3, 4, 5, 6]"
      ]
     },
     "execution_count": 14,
     "metadata": {},
     "output_type": "execute_result"
    }
   ],
   "source": [
    "liste1 = [1,2,3]\n",
    "liste2 = [4,5,6]\n",
    "birlesitirilmisListe = liste1 + liste2\n",
    "birlesitirilmisListe\n"
   ]
  },
  {
   "cell_type": "code",
   "execution_count": 15,
   "metadata": {},
   "outputs": [
    {
     "name": "stdout",
     "output_type": "stream",
     "text": [
      "3\n"
     ]
    }
   ],
   "source": [
    "liste = [1,9,3,9,5,6,7,8,9]\n",
    "sonuc=liste.count(9)\n",
    "print(sonuc)"
   ]
  },
  {
   "cell_type": "code",
   "execution_count": 17,
   "metadata": {},
   "outputs": [
    {
     "name": "stdout",
     "output_type": "stream",
     "text": [
      "1\n",
      "9\n"
     ]
    }
   ],
   "source": [
    "\n",
    "my_list = [3, 1, 4, 1, 5, 9, 2, 6, 5, 3]\n",
    "\n",
    "print(min(my_list))\n",
    "print(max(my_list))\n"
   ]
  },
  {
   "cell_type": "code",
   "execution_count": 26,
   "metadata": {},
   "outputs": [
    {
     "name": "stdout",
     "output_type": "stream",
     "text": [
      "cift [2, 4, 6, 8]\n",
      "tek [1, 3, 5, 7, 9]\n"
     ]
    }
   ],
   "source": [
    "numbers = [1, 2, 3, 4, 5, 6, 7, 8, 9]\n",
    "ciftSayilarDizisi = []\n",
    "tekSayilarDizisi = []\n",
    "\n",
    "for sayi in numbers:\n",
    "    if sayi % 2 == 0:\n",
    "        ciftSayilarDizisi.append(sayi)\n",
    "    else:\n",
    "        tekSayilarDizisi.append(sayi)\n",
    "        \n",
    "print(\"cift\", ciftSayilarDizisi)\n",
    "print(\"tek\", tekSayilarDizisi)"
   ]
  },
  {
   "cell_type": "code",
   "execution_count": 30,
   "metadata": {},
   "outputs": [
    {
     "name": "stdout",
     "output_type": "stream",
     "text": [
      "kelime palindromiktir\n"
     ]
    }
   ],
   "source": [
    "def palindromKontrol(kelime):\n",
    "    if(kelime == kelime[::-1]):\n",
    "        print(\"kelime palindromiktir\")\n",
    "    else:\n",
    "        print(\"kelime palindromik değildir\")\n",
    "\n",
    "\n",
    "girilenKelime = str(input(\"bir kelime girin:\"))\n",
    "palindromKontrol(girilenKelime)\n"
   ]
  },
  {
   "cell_type": "code",
   "execution_count": 34,
   "metadata": {},
   "outputs": [
    {
     "name": "stdout",
     "output_type": "stream",
     "text": [
      "0  \n",
      "1  \n",
      "1  \n",
      "2  \n",
      "3  \n",
      "5  \n",
      "8  \n",
      "13  \n",
      "21  \n",
      "34  \n",
      "55  \n",
      "89  \n",
      "144  \n",
      "233  \n",
      "377  \n",
      "610  \n",
      "987  \n",
      "1597  \n",
      "2584  \n",
      "4181  \n",
      "6765  \n",
      "10946  \n",
      "17711  \n",
      "28657  \n",
      "46368  \n",
      "75025  \n",
      "121393  \n",
      "196418  \n",
      "317811  \n",
      "514229  \n",
      "832040  \n",
      "1346269  \n",
      "2178309  \n",
      "3524578  \n",
      "5702887  \n",
      "9227465  \n",
      "14930352  \n",
      "24157817  \n",
      "39088169  \n",
      "63245986  \n",
      "102334155  \n",
      "165580141  \n",
      "267914296  \n",
      "433494437  \n",
      "701408733  \n",
      "1134903170  \n",
      "1836311903  \n",
      "2971215073  \n",
      "4807526976  \n",
      "7778742049  \n",
      "12586269025  \n",
      "20365011074  \n",
      "32951280099  \n",
      "53316291173  \n",
      "86267571272  \n",
      "139583862445  \n",
      "225851433717  \n",
      "365435296162  \n",
      "591286729879  \n",
      "956722026041  \n",
      "1548008755920  \n",
      "2504730781961  \n",
      "4052739537881  \n",
      "6557470319842  \n",
      "10610209857723  \n",
      "17167680177565  \n",
      "27777890035288  \n",
      "44945570212853  \n",
      "72723460248141  \n",
      "117669030460994  \n",
      "190392490709135  \n",
      "308061521170129  \n",
      "498454011879264  \n",
      "806515533049393  \n",
      "1304969544928657  \n",
      "2111485077978050  \n",
      "3416454622906707  \n",
      "5527939700884757  \n",
      "8944394323791464  \n",
      "14472334024676221  \n",
      "23416728348467685  \n",
      "37889062373143906  \n",
      "61305790721611591  \n",
      "99194853094755497  \n",
      "160500643816367088  \n",
      "259695496911122585  \n",
      "420196140727489673  \n",
      "679891637638612258  \n",
      "1100087778366101931  \n",
      "1779979416004714189  \n",
      "2880067194370816120  \n",
      "4660046610375530309  \n",
      "7540113804746346429  \n",
      "12200160415121876738  \n",
      "19740274219868223167  \n",
      "31940434634990099905  \n",
      "51680708854858323072  \n",
      "83621143489848422977  \n",
      "135301852344706746049  \n",
      "218922995834555169026  \n",
      "354224848179261915075  \n"
     ]
    }
   ],
   "source": [
    "# fibonacci 0-1-1-2-3-4\n",
    "a = 0\n",
    "b = 1\n",
    "\n",
    "for _ in range(101):  # 0'dan 100'e kadar Fibonacci sayılarını göstermek için\n",
    "    print(a,\" \")\n",
    "    c = a + b\n",
    "    a = b\n",
    "    b = c\n"
   ]
  },
  {
   "cell_type": "code",
   "execution_count": 38,
   "metadata": {},
   "outputs": [
    {
     "name": "stdout",
     "output_type": "stream",
     "text": [
      "[2, 3, 5, 7, 11, 13, 17, 19]\n"
     ]
    }
   ],
   "source": [
    "# asal sayılar // 2-3-5-7-11\n",
    "\n",
    "asalSayilar = []\n",
    "bosSayilar = []\n",
    "\n",
    "for i in range(2,20):\n",
    "    asal_mi = True # her sayı başlangıçta asal\n",
    "    for j in range(2,i):\n",
    "        if(i%j==0):\n",
    "            asal_mi = False\n",
    "            break\n",
    "    \n",
    "    if asal_mi:\n",
    "        asalSayilar.append(i)\n",
    "\n",
    "print(asalSayilar)"
   ]
  },
  {
   "cell_type": "code",
   "execution_count": 48,
   "metadata": {},
   "outputs": [
    {
     "name": "stdout",
     "output_type": "stream",
     "text": [
      "10 mükemmel sayı değildir.\n"
     ]
    }
   ],
   "source": [
    "# Mükemmel sayılar, pozitif bölenlerinin toplamı kendisi olan sayılardır. Örneğin, 28 bir mükemmel sayıdır çünkü pozitif bölenleri 1, 2, 4, 7 ve 14'dir, ve bu bölenlerin toplamı 28'i verir\n",
    "def mukemmelSayimi(sayi):\n",
    "    bolenler = []\n",
    "    for i in range(1, sayi):\n",
    "        if sayi % i == 0:\n",
    "            bolenler.append(i)\n",
    "\n",
    "    return sum(bolenler) == sayi\n",
    "\n",
    "sayim = int(input(\"Bir sayı girin: \"))\n",
    "\n",
    "if mukemmelSayimi(sayim):\n",
    "    print(f\"{sayim} mükemmel sayıdır.\")\n",
    "else:\n",
    "    print(f\"{sayim} mükemmel sayı değildir.\")\n"
   ]
  },
  {
   "cell_type": "markdown",
   "metadata": {},
   "source": [
    "# demet (tuple) soruları:\n",
    "### değiştirilemez koleksiyon tipidir"
   ]
  },
  {
   "cell_type": "code",
   "execution_count": 18,
   "metadata": {},
   "outputs": [
    {
     "name": "stdout",
     "output_type": "stream",
     "text": [
      "(1, 2, 3, 4, 5, 6)\n"
     ]
    }
   ],
   "source": [
    "tuple1 = (1,2,3)\n",
    "tuple2 = (4,5,6)\n",
    "topTuple = tuple1 + tuple2\n",
    "print(topTuple)"
   ]
  },
  {
   "cell_type": "code",
   "execution_count": 49,
   "metadata": {},
   "outputs": [
    {
     "name": "stdout",
     "output_type": "stream",
     "text": [
      "Veri Çerçevesi (İlk Hal):\n",
      "       Ad  Yaş     Şehir\n",
      "0     Ali   25  İstanbul\n",
      "1  Mehmet   30    Ankara\n",
      "2    Ayşe   22     İzmir\n",
      "3   Fatma   35     Bursa\n",
      "\n",
      "Veri Çerçevesi (İndeks Belirlenmiş Hal):\n",
      "        Yaş     Şehir\n",
      "Ad                   \n",
      "Ali      25  İstanbul\n",
      "Mehmet   30    Ankara\n",
      "Ayşe     22     İzmir\n",
      "Fatma    35     Bursa\n"
     ]
    }
   ],
   "source": [
    "import pandas as pd\n",
    "\n",
    "# Örnek bir veri çerçevesi oluşturalım\n",
    "data = {\n",
    "    'Ad': ['Ali', 'Mehmet'],\n",
    "    'Yaş': [25, 30],\n",
    "    'Şehir': ['İstanbul', 'Ankara']\n",
    "}\n",
    "\n",
    "df = pd.DataFrame(data)\n",
    "\n",
    "# Veri çerçevesinin ilk halini görelim\n",
    "print(\"Veri Çerçevesi (İlk Hal):\")\n",
    "print(df)\n",
    "\n",
    "# 'Ad' sütununu indeks olarak ayarlayalım\n",
    "df_set_index = df.set_index('Ad')\n",
    "\n",
    "# İndeks belirlenmiş veri çerçevesini görelim\n",
    "print(\"\\nVeri Çerçevesi (İndeks Belirlenmiş Hal):\")\n",
    "print(df_set_index)\n"
   ]
  },
  {
   "cell_type": "markdown",
   "metadata": {},
   "source": [
    "# sözlük (dictionary) soruları:\n",
    "key value çifti koleksiyonu vardır.\n",
    "sırasızdır. \n",
    "değiştirilebilir."
   ]
  },
  {
   "cell_type": "code",
   "execution_count": 24,
   "metadata": {},
   "outputs": [
    {
     "name": "stdout",
     "output_type": "stream",
     "text": [
      "ahatar mevcut\n"
     ]
    }
   ],
   "source": [
    "n = str(input(\"kontrol edilen sözlük\"))\n",
    "\n",
    "benimSozlugum = {\n",
    "    'a':1,\n",
    "    'b':2,\n",
    "    'c':3\n",
    "}\n",
    "\n",
    "for anahtar in benimSozlugum:\n",
    "    if n == anahtar: \n",
    "        print(\"ahatar mevcut\")\n",
    "        break\n",
    "    else: \n",
    "        print(\"yok\")"
   ]
  },
  {
   "cell_type": "code",
   "execution_count": null,
   "metadata": {},
   "outputs": [],
   "source": []
  }
 ],
 "metadata": {
  "kernelspec": {
   "display_name": "Python 3",
   "language": "python",
   "name": "python3"
  },
  "language_info": {
   "codemirror_mode": {
    "name": "ipython",
    "version": 3
   },
   "file_extension": ".py",
   "mimetype": "text/x-python",
   "name": "python",
   "nbconvert_exporter": "python",
   "pygments_lexer": "ipython3",
   "version": "3.11.5"
  }
 },
 "nbformat": 4,
 "nbformat_minor": 2
}
